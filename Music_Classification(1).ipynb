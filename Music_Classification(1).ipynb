{
  "nbformat": 4,
  "nbformat_minor": 0,
  "metadata": {
    "colab": {
      "provenance": []
    },
    "kernelspec": {
      "name": "python3",
      "display_name": "Python 3"
    },
    "language_info": {
      "name": "python"
    }
  },
  "cells": [
    {
      "cell_type": "markdown",
      "source": [
        "Music Genre Classification using Song Lyrics ||\n",
        "Author: Parsa Keyvani - Sandra Weinstock ||\n",
        "\n",
        "I affirm that I have carried out my academic endeavors with full\n",
        "academic honesty. [Parsa Keyvani, Sandra Weinstock]\n"
      ],
      "metadata": {
        "id": "Q2t0Og3kstEQ"
      }
    },
    {
      "cell_type": "code",
      "execution_count": 100,
      "metadata": {
        "id": "gBse7KllBuzT"
      },
      "outputs": [],
      "source": [
        "import numpy as np\n",
        "import pandas as pd\n",
        "import tensorflow as tf\n",
        "from tensorflow.keras.preprocessing.text import Tokenizer\n",
        "from tensorflow.keras.preprocessing.sequence import pad_sequences\n",
        "from tensorflow.keras.layers import Embedding, LSTM, Bidirectional, Dense, Dropout\n",
        "from tensorflow.keras.models import Sequential\n",
        "from sklearn.linear_model import LogisticRegression\n",
        "from sklearn.metrics import f1_score, accuracy_score, precision_score, recall_score\n",
        "from sklearn.model_selection import train_test_split\n",
        "from sklearn.metrics import confusion_matrix, ConfusionMatrixDisplay\n",
        "import matplotlib.pyplot as plt\n",
        "\n",
        "#from google.colab import drive\n",
        "#drive.mount('/content/drive')"
      ]
    },
    {
      "cell_type": "code",
      "source": [
        "# Load the dataset\n",
        "data = pd.read_csv(\"/content/drive/MyDrive/NLP Group Project /preprocessed_data.csv\")\n",
        "data = data.dropna()\n",
        "\n",
        "# Preprocessing\n",
        "tokenizer = Tokenizer(num_words=5000, oov_token=\"<OOV>\")\n",
        "tokenizer.fit_on_texts(data['Lyrics'])\n",
        "sequences = tokenizer.texts_to_sequences(data['Lyrics'])\n",
        "max_length = max([len(x) for x in sequences])\n",
        "padded_sequences = pad_sequences(sequences, maxlen=max_length, padding='post', truncating='post')\n",
        "\n",
        "# Encode the target variable y\n",
        "from sklearn.preprocessing import LabelEncoder\n",
        "le = LabelEncoder()\n",
        "y = le.fit_transform(data['Genres'])\n",
        "\n",
        "# Split into training and test set\n",
        "X_train, X_test, y_train, y_test = train_test_split(padded_sequences, y, test_size=0.2, random_state=42)"
      ],
      "metadata": {
        "id": "EaLxA7Ow9hTD"
      },
      "execution_count": 101,
      "outputs": []
    },
    {
      "cell_type": "code",
      "source": [
        "data.describe()\n"
      ],
      "metadata": {
        "id": "_m2VVAsT4hgB",
        "colab": {
          "base_uri": "https://localhost:8080/"
        },
        "outputId": "de924d1f-09f6-4513-f6cb-452c72bf5b7c"
      },
      "execution_count": 102,
      "outputs": [
        {
          "output_type": "stream",
          "name": "stdout",
          "text": [
            "Genres\n",
            "hip hop    263.0\n",
            "pop        144.0\n",
            "rock       104.0\n",
            "Name: lyric_length, dtype: float64\n"
          ]
        }
      ]
    },
    {
      "cell_type": "code",
      "source": [
        "#### VISUALIZATION: This table documents the average lyric lengths for each of the genres\n",
        "# compute the length of each lyric and add it as a new column\n",
        "data['lyric_length'] = data['Lyrics'].apply(len)\n",
        "\n",
        "# group the dataframe by genre and compute the mean of the lyric lengths for each group\n",
        "avg_lyric_length_by_genre = data.groupby('Genres')['lyric_length'].mean()\n",
        "# print the resulting table\n",
        "print(round(avg_lyric_length_by_genre/10))"
      ],
      "metadata": {
        "id": "wwX1-qS8pq5L"
      },
      "execution_count": null,
      "outputs": []
    },
    {
      "cell_type": "code",
      "source": [
        "#### VISUALIZATION: This table shows the top 10 unique words mentioned in each genre the most that is different in other genres. \n",
        "\n",
        "# Loop through each genre\n",
        "from collections import Counter\n",
        "\n",
        "\n",
        "for genre in set(data[\"Genres\"]):\n",
        "    genre_words = []\n",
        "    other_words = []\n",
        "    \n",
        "    # Get all the words for the current genre\n",
        "    for lyric in data[data[\"Genres\"] == genre][\"Lyrics\"]:\n",
        "        genre_words += lyric.split()\n",
        "    \n",
        "    # Get all the words for the other genres\n",
        "    for other_genre in set(data[\"Genres\"]) - {genre}:\n",
        "        for lyric in data[data[\"Genres\"] == other_genre][\"Lyrics\"]:\n",
        "            other_words += lyric.split()\n",
        "    \n",
        "    # Count the occurrences of each word in the current genre\n",
        "    genre_word_counts = Counter(genre_words)\n",
        "    \n",
        "\n",
        "    \n",
        "   # Print the top 10 unique words for the current genre\n",
        "    print(\"Genre:\", genre)\n",
        "    for word, count in genre_word_counts.most_common()[-10:]:\n",
        "        print(word)\n",
        "    print()"
      ],
      "metadata": {
        "id": "Pw4Us36ZpcTB"
      },
      "execution_count": null,
      "outputs": []
    },
    {
      "cell_type": "code",
      "source": [
        "#### VISUALIZATION: This plot shows the confusion matrix for the logistic regression model using average GloVe\n",
        "# embeddings. The rows represent true genre while the columns represent predicted genre.\n",
        "\n",
        "cm = confusion_matrix(y_test, y_pred)\n",
        "\n",
        "# plot confusion matrix\n",
        "disp = ConfusionMatrixDisplay(confusion_matrix=cm, display_labels=clf.classes_)\n",
        "disp.plot()"
      ],
      "metadata": {
        "id": "BzLhSNfnpimf"
      },
      "execution_count": null,
      "outputs": []
    },
    {
      "cell_type": "code",
      "source": [
        "# Load the pre-trained GloVe embeddings\n",
        "embeddings_index = {}\n",
        "with open(\"/content/drive/MyDrive/NLP Group Project /glove.6B.100d.txt\") as f:\n",
        "    for line in f:\n",
        "        values = line.split()\n",
        "        word = values[0]\n",
        "        coefs = np.asarray(values[1:], dtype='float32')\n",
        "        embeddings_index[word] = coefs\n",
        "\n",
        "# Create the embedding matrix\n",
        "embedding_dim = 100\n",
        "word_index = tokenizer.word_index\n",
        "num_words = min(len(word_index) + 1, 5000)\n",
        "embedding_matrix = np.zeros((num_words, embedding_dim))\n",
        "for word, i in word_index.items():\n",
        "    if i >= num_words:\n",
        "        continue\n",
        "    embedding_vector = embeddings_index.get(word)\n",
        "    if embedding_vector is not None:\n",
        "        embedding_matrix[i] = embedding_vector\n",
        "\n",
        "# Train logistic regression model\n",
        "clf = LogisticRegression(max_iter=500)\n",
        "clf.fit(X_train, y_train)\n",
        "\n",
        "# Make predictions on testing set\n",
        "y_pred = clf.predict(X_test)\n",
        "\n",
        "# Evaluate model performance\n",
        "f1 = f1_score(y_test, y_pred, average='weighted')\n",
        "accuracy = accuracy_score(y_test, y_pred)\n",
        "precision = precision_score(y_test, y_pred, average='weighted')\n",
        "recall = recall_score(y_test, y_pred, average='weighted')\n",
        "\n",
        "print('F1 score:', f1)\n",
        "print('Accuracy:', accuracy)\n",
        "print('Precision:', precision)\n",
        "print('Recall:', recall)\n",
        "\n",
        "# Train LSTM model\n",
        "lstm_model = Sequential()\n",
        "lstm_model.add(Embedding(num_words, embedding_dim, input_length=max_length))\n",
        "lstm_model.add(LSTM(128, dropout=0.2, recurrent_dropout=0.2))\n",
        "lstm_model.add(Dense(10, activation='softmax'))\n",
        "lstm_model.compile(loss='sparse_categorical_crossentropy', optimizer='adam', metrics=['accuracy'])\n",
        "history = lstm_model.fit(X_train, y_train, validation_data=(X_test, y_test), epochs=10, batch_size=64)\n",
        "\n",
        "# Train bidirectional LSTM model\n",
        "bilstm_model = Sequential()\n",
        "bilstm_model.add(Embedding(num_words, embedding_dim, weights=[embedding_matrix], input_length=max_length, trainable=False))\n",
        "bilstm_model.add(Bidirectional(LSTM(units=32, dropout=0.2)))\n",
        "bilstm_model.add(Dense(10, activation='softmax'))\n",
        "bilstm_model.compile(loss='sparse_categorical_crossentropy', optimizer='adam', metrics=['accuracy'])\n",
        "history = bilstm_model.fit(X_train, y_train, validation_data=(X_test, y_test), epochs=10, batch_size=64)\n",
        "\n"
      ],
      "metadata": {
        "id": "qP9yG0g-nA3A",
        "outputId": "ec622e49-1678-4e80-9289-343e9eb0349e",
        "colab": {
          "base_uri": "https://localhost:8080/"
        }
      },
      "execution_count": null,
      "outputs": [
        {
          "output_type": "stream",
          "name": "stderr",
          "text": [
            "/usr/local/lib/python3.9/dist-packages/sklearn/linear_model/_logistic.py:458: ConvergenceWarning: lbfgs failed to converge (status=1):\n",
            "STOP: TOTAL NO. of ITERATIONS REACHED LIMIT.\n",
            "\n",
            "Increase the number of iterations (max_iter) or scale the data as shown in:\n",
            "    https://scikit-learn.org/stable/modules/preprocessing.html\n",
            "Please also refer to the documentation for alternative solver options:\n",
            "    https://scikit-learn.org/stable/modules/linear_model.html#logistic-regression\n",
            "  n_iter_i = _check_optimize_result(\n"
          ]
        },
        {
          "output_type": "stream",
          "name": "stdout",
          "text": [
            "F1 score: 0.6058531008241017\n",
            "Accuracy: 0.645996387718242\n",
            "Precision: 0.6091903458895656\n",
            "Recall: 0.645996387718242\n",
            "Epoch 1/10\n",
            "104/104 [==============================] - 1179s 11s/step - loss: 1.0608 - accuracy: 0.5543 - val_loss: 0.9576 - val_accuracy: 0.5671\n",
            "Epoch 2/10\n",
            " 37/104 [=========>....................] - ETA: 11:52 - loss: 0.9568 - accuracy: 0.5524"
          ]
        }
      ]
    }
  ]
}